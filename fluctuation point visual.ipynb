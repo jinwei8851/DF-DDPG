{
 "cells": [
  {
   "cell_type": "code",
   "execution_count": 1,
   "id": "3c2b07f2",
   "metadata": {},
   "outputs": [
    {
     "name": "stderr",
     "output_type": "stream",
     "text": [
      "D:\\anaconda3\\envs\\tensorflow2.3\\lib\\site-packages\\ipykernel_launcher.py:6: FutureWarning: The pandas.datetime class is deprecated and will be removed from pandas in a future version. Import from datetime module instead.\n",
      "  \n"
     ]
    }
   ],
   "source": [
    "import pandas as pd\n",
    "import numpy as np\n",
    "from pandas import read_csv\n",
    "from pandas import DataFrame\n",
    "from pandas import concat\n",
    "from pandas import datetime\n",
    "import os\n",
    "import time\n",
    "import math\n",
    "from chinese_calendar import is_workday\n",
    "import pandas as pd\n",
    "import numpy as np\n",
    "import seaborn as sns\n",
    "import matplotlib.pyplot as plt\n",
    "%matplotlib inline"
   ]
  },
  {
   "cell_type": "code",
   "execution_count": 2,
   "id": "97b39b5d",
   "metadata": {},
   "outputs": [],
   "source": [
    "def parser(x):\n",
    "    return datetime.strptime(x, '%Y-%m-%d %H:%M:%S')"
   ]
  },
  {
   "cell_type": "code",
   "execution_count": 3,
   "id": "ef76985a",
   "metadata": {},
   "outputs": [],
   "source": [
    "series = read_csv('data2/test3W.csv', header=None,names=[\"date\",\"energy\",\"t1\",\"t2\",\"t3\",\"t4\",\"t5\"],parse_dates=[0], index_col=0, date_parser=parser)"
   ]
  },
  {
   "cell_type": "code",
   "execution_count": 4,
   "id": "dc5a43a7",
   "metadata": {},
   "outputs": [],
   "source": [
    "series=series['energy']"
   ]
  },
  {
   "cell_type": "code",
   "execution_count": 5,
   "id": "2eef1307",
   "metadata": {},
   "outputs": [],
   "source": [
    "def difference(dataset,interval=1):\n",
    "    diff = list()\n",
    "    for i in range(interval,len(dataset)):\n",
    "        value = dataset[i]-dataset[i-interval]\n",
    "        diff.append(value)\n",
    "    return Series(diff)#建立索引"
   ]
  },
  {
   "cell_type": "code",
   "execution_count": 6,
   "id": "5b621283",
   "metadata": {},
   "outputs": [],
   "source": [
    "a=series.diff(1)"
   ]
  },
  {
   "cell_type": "code",
   "execution_count": 7,
   "id": "fe165848",
   "metadata": {},
   "outputs": [],
   "source": [
    "b=a.shift(-1)"
   ]
  },
  {
   "cell_type": "code",
   "execution_count": 8,
   "id": "71b8a8b0",
   "metadata": {},
   "outputs": [
    {
     "data": {
      "text/plain": [
       "(date\n",
       " 2015-01-01 00:00:00     4.84\n",
       " 2015-01-01 01:00:00     1.99\n",
       " 2015-01-01 02:00:00    -2.38\n",
       " 2015-01-01 03:00:00    -5.64\n",
       " 2015-01-01 04:00:00    -5.84\n",
       "                        ...  \n",
       " 2016-12-31 19:00:00   -11.89\n",
       " 2016-12-31 20:00:00    -2.52\n",
       " 2016-12-31 21:00:00    -7.31\n",
       " 2016-12-31 22:00:00    -4.90\n",
       " 2016-12-31 23:00:00      NaN\n",
       " Name: energy, Length: 17520, dtype: float64,\n",
       " date\n",
       " 2015-01-01 00:00:00    109.16\n",
       " 2015-01-01 01:00:00    114.00\n",
       " 2015-01-01 02:00:00    115.99\n",
       " 2015-01-01 03:00:00    113.61\n",
       " 2015-01-01 04:00:00    107.97\n",
       "                         ...  \n",
       " 2016-12-31 19:00:00     87.26\n",
       " 2016-12-31 20:00:00     75.37\n",
       " 2016-12-31 21:00:00     72.85\n",
       " 2016-12-31 22:00:00     65.54\n",
       " 2016-12-31 23:00:00     60.64\n",
       " Name: energy, Length: 17520, dtype: float64)"
      ]
     },
     "execution_count": 8,
     "metadata": {},
     "output_type": "execute_result"
    }
   ],
   "source": [
    "b,series"
   ]
  },
  {
   "cell_type": "code",
   "execution_count": 9,
   "id": "aea2d187",
   "metadata": {},
   "outputs": [],
   "source": [
    "precent = []\n",
    "for i in range(len(series)-1):\n",
    "    a= b[i]/min(series[i],series[i+1])\n",
    "    precent.append(a)"
   ]
  },
  {
   "cell_type": "code",
   "execution_count": 10,
   "id": "9e18204e",
   "metadata": {},
   "outputs": [
    {
     "data": {
      "text/plain": [
       "[<matplotlib.lines.Line2D at 0x2269e6bc508>]"
      ]
     },
     "execution_count": 10,
     "metadata": {},
     "output_type": "execute_result"
    },
    {
     "data": {
      "image/png": "[encoded data removed]",
      "text/plain": [
       "<Figure size 432x288 with 1 Axes>"
      ]
     },
     "metadata": {
      "needs_background": "light"
     },
     "output_type": "display_data"
    }
   ],
   "source": [
    "precent =precent[:int(len(precent)*0.8)]\n",
    "plt.plot(precent)"
   ]
  },
  {
   "cell_type": "code",
   "execution_count": 11,
   "id": "0082875e",
   "metadata": {},
   "outputs": [
    {
     "name": "stderr",
     "output_type": "stream",
     "text": [
      "D:\\anaconda3\\envs\\tensorflow2.3\\lib\\site-packages\\seaborn\\distributions.py:2557: FutureWarning: `distplot` is a deprecated function and will be removed in a future version. Please adapt your code to use either `displot` (a figure-level function with similar flexibility) or `histplot` (an axes-level function for histograms).\n",
      "  warnings.warn(msg, FutureWarning)\n"
     ]
    },
    {
     "data": {
      "text/plain": [
       "<AxesSubplot:ylabel='Density'>"
      ]
     },
     "execution_count": 11,
     "metadata": {},
     "output_type": "execute_result"
    },
    {
     "data": {
      "image/png": "[encoded data removed]",
      "text/plain": [
       "<Figure size 432x288 with 1 Axes>"
      ]
     },
     "metadata": {
      "needs_background": "light"
     },
     "output_type": "display_data"
    }
   ],
   "source": [
    "sns.distplot(precent)"
   ]
  },
  {
   "cell_type": "code",
   "execution_count": 21,
   "id": "1f7c2fe0",
   "metadata": {},
   "outputs": [],
   "source": [
    "precent = np.array(precent)"
   ]
  },
  {
   "cell_type": "code",
   "execution_count": 22,
   "id": "78bb7f1a",
   "metadata": {},
   "outputs": [],
   "source": [
    "precent = np.reshape(precent,-1)"
   ]
  },
  {
   "cell_type": "code",
   "execution_count": 23,
   "id": "35807cce",
   "metadata": {},
   "outputs": [],
   "source": [
    "bins=np.linspace(0.5,4,100)"
   ]
  },
  {
   "cell_type": "code",
   "execution_count": 24,
   "id": "5f339d3e",
   "metadata": {},
   "outputs": [
    {
     "data": {
      "image/png": "[encoded data removed]",
      "text/plain": [
       "<Figure size 432x288 with 1 Axes>"
      ]
     },
     "metadata": {
      "needs_background": "light"
     },
     "output_type": "display_data"
    }
   ],
   "source": [
    "plt.hist(precent,bins,color='fuchsia',alpha=0.5)#alpha设置透明度，0为完全透明\n",
    "\n",
    "plt.xlabel('scores')\n",
    "plt.ylabel('count')\n",
    "plt.xlim(-4,4)#设置x轴分布范围\n",
    "\n",
    "plt.show()"
   ]
  },
  {
   "cell_type": "code",
   "execution_count": 25,
   "id": "101e67a2",
   "metadata": {},
   "outputs": [],
   "source": [
    "# 定义3σ法则识别波动值函数\n",
    "def three_sigma(Ser1):\n",
    "    '''\n",
    "    Ser1：表示传入DataFrame的某一列。\n",
    "    '''\n",
    "    rule = (Ser1.mean()-1.75*Ser1.std()>Ser1) | (Ser1.mean()+1.75*Ser1.std()< Ser1)\n",
    "    index = np.arange(Ser1.shape[0])[rule]\n",
    "    outrange = Ser1[index]\n",
    "    return outrange"
   ]
  },
  {
   "cell_type": "code",
   "execution_count": 26,
   "id": "201875c7",
   "metadata": {},
   "outputs": [
    {
     "name": "stdout",
     "output_type": "stream",
     "text": [
      "0.676431287755897\n"
     ]
    }
   ],
   "source": [
    "# 导入数据并调用three_sigma\n",
    "\n",
    "print(three_sigma(precent).mean())"
   ]
  },
  {
   "cell_type": "code",
   "execution_count": 27,
   "id": "f1636ce9",
   "metadata": {},
   "outputs": [],
   "source": [
    "positive = []\n",
    "negative = []\n",
    "c = three_sigma(precent)\n",
    "for i in range (len(c)):\n",
    "    if c[i] > 0:\n",
    "        positive.append(c[i])\n",
    "    else:\n",
    "        negative.append(c[i])"
   ]
  },
  {
   "cell_type": "code",
   "execution_count": 28,
   "id": "a1b4b7ee",
   "metadata": {},
   "outputs": [
    {
     "data": {
      "text/plain": [
       "1.3334689652249265"
      ]
     },
     "execution_count": 28,
     "metadata": {},
     "output_type": "execute_result"
    }
   ],
   "source": [
    "positive = np.array(positive)\n",
    "positive.mean()"
   ]
  },
  {
   "cell_type": "code",
   "execution_count": 29,
   "id": "236992e3",
   "metadata": {},
   "outputs": [
    {
     "data": {
      "text/plain": [
       "-0.7798387884254596"
      ]
     },
     "execution_count": 29,
     "metadata": {},
     "output_type": "execute_result"
    }
   ],
   "source": [
    "negative = np.array(negative)\n",
    "negative.mean()"
   ]
  },
  {
   "cell_type": "code",
   "execution_count": 30,
   "id": "83f4a873",
   "metadata": {},
   "outputs": [
    {
     "data": {
      "text/plain": [
       "3.5831930415263757"
      ]
     },
     "execution_count": 30,
     "metadata": {},
     "output_type": "execute_result"
    }
   ],
   "source": [
    "np.max(positive)"
   ]
  },
  {
   "cell_type": "code",
   "execution_count": null,
   "id": "1163105e",
   "metadata": {},
   "outputs": [],
   "source": []
  },
  {
   "cell_type": "code",
   "execution_count": null,
   "id": "c5c68709",
   "metadata": {},
   "outputs": [],
   "source": []
  }
 ],
 "metadata": {
  "kernelspec": {
   "display_name": "Python 3 (ipykernel)",
   "language": "python",
   "name": "python3"
  },
  "language_info": {
   "codemirror_mode": {
    "name": "ipython",
    "version": 3
   },
   "file_extension": ".py",
   "mimetype": "text/x-python",
   "name": "python",
   "nbconvert_exporter": "python",
   "pygments_lexer": "ipython3",
   "version": "3.7.11"
  }
 },
 "nbformat": 4,
 "nbformat_minor": 5
}
